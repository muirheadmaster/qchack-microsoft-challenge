{
 "cells": [
  {
   "cell_type": "markdown",
   "metadata": {},
   "source": [
    "<center><h1>Using Grover's Algorithm in Battleship</h1></center>\n",
    "\n",
    "Battleship is a beloved game enjoyed all over the world. Here we use Grover's Algorithm to solve for the possible configurations of a simplified version of Battleship on a $2 \\times 2$ board."
   ]
  },
  {
   "cell_type": "markdown",
   "metadata": {},
   "source": [
    "<img src=\"https://user-images.githubusercontent.com/42923017/114302152-ce7c7680-9a95-11eb-97f8-e6a17c7144ea.png\" alt=\"Richard's Battleship\" width=\"300\"/>"
   ]
  },
  {
   "cell_type": "markdown",
   "metadata": {},
   "source": [
    "You are starting a round of Battleship against a friend, and you'd like to find all the different configurations you could place your ships. However, you must abide by the following rules:\n",
    "\n",
    "- You have two ships with the following sizes: $1 \\times 1$ and $2 \\times 1$ (call these ships \"small\" and \"large\", respectively).\n",
    "\n",
    "- The ships cannot overlap.\n",
    "\n",
    "- The ship cannot be placed over the edge of a board.\n"
   ]
  },
  {
   "cell_type": "markdown",
   "metadata": {},
   "source": [
    "<table style=\"width:100%\">\n",
    "    <tr>\n",
    "        <td>\n",
    "            <img src=\"https://user-images.githubusercontent.com/42923017/114302345-af321900-9a96-11eb-905b-7d0d029f22c8.png\" alt=\"Richard's Invalid Battleship\" width=\"300\" caption=\"Invalid Battleship\"/>\n",
    "        </td>\n",
    "        <td>\n",
    "            <img src=\"https://user-images.githubusercontent.com/42923017/114302423-f3bdb480-9a96-11eb-8dab-07be87d86a7f.png\" alt=\"Richard's Battleship\" width=\"300\" caption=\"Valid Battleship\"/>\n",
    "        </td>\n",
    "    </tr>\n",
    "</table>"
   ]
  },
  {
   "cell_type": "markdown",
   "metadata": {},
   "source": [
    "On the left, we have an *invalid* battleship configuration because the $1\\times 1$ ship in the lower left corner intersects with the $2\\times 2$ ship on the bottom.\n",
    "\n",
    "On the right, we have a *valid* battleship configuration because the $1\\times 1$ ship in the upper left corner does not intersect with the $2\\times 2$ ship on the right."
   ]
  },
  {
   "cell_type": "markdown",
   "metadata": {},
   "source": [
    "### Part 1. Setup\n",
    "\n",
    "To help formalize the problem, we represent the board using a $2 \\times 2$ graph on the $x$-$y$ plane, with each ship's coordinates represented by a length $2$ tuple of binary values $(x, y)$.\n",
    "\n",
    "A configuration is uniquely specified by the positions of each of the two ships. Therefore, a configuration is characterized by the form\n",
    "\n",
    "$$\n",
    "(\\text{small}_x, \\text{small}_y), ([\\text{large_start}_x, \\text{large_start}_y], [\\text{large_end}_x, \\text{large_end}_y]),\n",
    "$$\n",
    "\n",
    "as demonstrated below:"
   ]
  },
  {
   "cell_type": "markdown",
   "metadata": {},
   "source": [
    "<img src=\"https://user-images.githubusercontent.com/42923017/114303269-4305e400-9a9b-11eb-98ae-4943b1f27689.png\" alt=\"Richard's Invalid Battleship\" width=\"450\" caption=\"Annotated Battleship\"/>"
   ]
  },
  {
   "cell_type": "markdown",
   "metadata": {},
   "source": [
    "This can be written as a qubit array of the form\n",
    "\n",
    "$$\n",
    "[\\text{small}_x, \\text{small}_y, \\text{large_start}_x, \\text{large_start}_y, \\text{large_end}_x, \\text{large_end}_y],\n",
    "$$\n",
    "\n",
    "which we use as our register for our marking oracle."
   ]
  },
  {
   "cell_type": "markdown",
   "metadata": {},
   "source": [
    "### Part 2. Implementation of Oracle\n",
    "\n",
    "Given that the $1\\times 1$ ship can start in any of the positions, our marking oracle only needs two ancillary qubits: one for checking the $2\\times 1$ ship's validity (`validRectangle`), and one for checking the $2\\times 1$ ship's overlap with the $1\\times 1$ ship (`hasOverlap`).\n",
    "\n",
    "We note that exactly one coordinate of the $2\\times 1$ ship must be $[0, 0]$ or $[1, 1]$, so we use `Controlled X` to check for an instance of $[0, 0]$ or $[1, 1]$ in each coordinate and update the `validRectangle` target accordingly. The special case to consider is when both coordinates are identically $[0, 0]$ or $[1, 1]$, in which case `validRectangle` is targeted twice and thereby remains false, as desired.\n",
    "\n",
    "Next, we check if the $1\\times 1$ ship's coordinates overlap with either of the $2\\times 1$ ship's coordinates by borrowing the 2 bit equality oracle from the Graph Coloring Katas. Since `hasOverlap` is initialized as `false`, it remains false when no overlap is detected. Therefore, our final `ControlledOnBitString` uses `[true, false]` as the control for `target`. "
   ]
  },
  {
   "cell_type": "code",
   "execution_count": 1,
   "metadata": {},
   "outputs": [
    {
     "data": {
      "application/json": "[]",
      "text/html": [
       "<ul></ul>"
      ],
      "text/plain": []
     },
     "execution_count": 1,
     "metadata": {},
     "output_type": "execute_result"
    }
   ],
   "source": [
    "// Import necessary packages\n",
    "\n",
    "open Microsoft.Quantum.Arrays;\n",
    "open Microsoft.Quantum.Canon;\n",
    "open Microsoft.Quantum.Intrinsic;\n",
    "\n",
    "open Microsoft.Quantum.Diagnostics;\n",
    "open Microsoft.Quantum.Math;\n",
    "open Microsoft.Quantum.Measurement;\n",
    "open Microsoft.Quantum.Convert;\n"
   ]
  },
  {
   "cell_type": "code",
   "execution_count": 2,
   "metadata": {},
   "outputs": [
    {
     "data": {
      "application/json": "[\"ValidBattleshipMarkingOracle\",\"EqualityOracle_2bit\"]",
      "text/html": [
       "<ul><li>ValidBattleshipMarkingOracle</li><li>EqualityOracle_2bit</li></ul>"
      ],
      "text/plain": [
       "ValidBattleshipMarkingOracle, EqualityOracle_2bit"
      ]
     },
     "execution_count": 2,
     "metadata": {},
     "output_type": "execute_result"
    }
   ],
   "source": [
    "operation ValidBattleshipMarkingOracle (\n",
    "    coordsRegister : Qubit[],\n",
    "    target : Qubit\n",
    ") : Unit is Adj+Ctl {\n",
    "    // first ancilla qubit denotes if large is valid ship,\n",
    "    // second ancilla qubit denotes if large overlaps with small\n",
    "    use validRectangle = Qubit();\n",
    "    use hasOverlap = Qubit();\n",
    "    let (small_x, small_y, large_start_x, large_start_y, large_end_x, large_end_y) = (coordsRegister[0], coordsRegister[1], coordsRegister[2], coordsRegister[3], coordsRegister[4], coordsRegister[5]);\n",
    "    within {\n",
    "        // check if valid rectangle\n",
    "        ControlledOnBitString([false, false], X)([large_start_x, large_start_y], validRectangle);\n",
    "        ControlledOnBitString([true, true], X)([large_start_x, large_start_y], validRectangle);\n",
    "        ControlledOnBitString([false, false], X)([large_end_x, large_end_y], validRectangle);\n",
    "        ControlledOnBitString([true, true], X)([large_end_x, large_end_y], validRectangle);\n",
    "        \n",
    "        // check if large and small ships overlap\n",
    "        EqualityOracle_2bit([small_x, small_y],[large_start_x, large_start_y], hasOverlap);\n",
    "        EqualityOracle_2bit([small_x, small_y],[large_end_x, large_end_y], hasOverlap);\n",
    "    } apply {\n",
    "        // check false because hasOverlap remains at false when no overlap occurs\n",
    "        ControlledOnBitString([true, false], X)([validRectangle, hasOverlap], target);\n",
    "    }\n",
    "}\n",
    "\n",
    "// Implemented in Workbook_GraphColoring.ipynb\n",
    "// Helper function that checks if two 2bit qubits are the same\n",
    "operation EqualityOracle_2bit (small_coords : Qubit[], large_coords : Qubit[], target : Qubit) : Unit is Adj+Ctl {\n",
    "    use a = Qubit[2];\n",
    "    within {\n",
    "        // Compute bitwise XOR of small_coords and large_coords and store it in a\n",
    "        CNOT(small_coords[0], a[0]);\n",
    "        CNOT(small_coords[1], a[1]);\n",
    "        CNOT(large_coords[0], a[0]);\n",
    "        CNOT(large_coords[1], a[1]);\n",
    "    } apply {\n",
    "        // If all XORs are 0, small_coords = large_coords, and our function is 1\n",
    "        (ControlledOnInt(0, X))(a, target);\n",
    "    }\n",
    "}"
   ]
  },
  {
   "cell_type": "markdown",
   "metadata": {},
   "source": [
    "We may also test our battleship marking oracle by inputting an integer that is converted to a register of six qubits (in BigEndian order) for the oracle. For example, our test case of `inputNum=18` is converted in the following manner:\n",
    "\n",
    "$$\n",
    "18 = \\textbf{0} \\cdot 2^5 + \\textbf{1} \\cdot 2^4 + \\textbf{0} \\cdot 2^3 + \\textbf{0} \\cdot 2^2 + \\textbf{1} \\cdot 2^1 + \\textbf{0} \\cdot 2^0 \\implies [|0\\rangle, |1\\rangle, |0\\rangle, |0\\rangle, |1\\rangle, |0\\rangle].\n",
    "$$\n",
    "\n",
    "Then, the target result is displayed through `DumpRegister`, where $|0\\rangle$ represents an invalid configuration and $|1\\rangle$ represents a valid configuration. In the provided test case, we have a valid configuration since the coordinates of the $2\\times 1$ ship are adjacent and do not include the coordinates of the $1\\times 1$ ship (see the output below where \n",
    "$$[\\text{inputBits}[0], \\text{inputBits}[1]] = [\\text{False}, \\text{True}] \\iff [0, 1]$$\n",
    "is the $1\\times 1$ ship's coordinates and \n",
    "$$[\\text{inputBits}[2], \\text{inputBits}[3]] = [\\text{False}, \\text{False}] \\iff [0, 0],$$\n",
    "$$[\\text{inputBits}[4], \\text{inputBits}[5]] = [\\text{True}, \\text{False}] \\iff [1, 0]$$\n",
    "are the $2\\times 2$ ship's coordinates). \n",
    "\n",
    "It is not required, but the user may try any `inputNum` between `0` and `63`.\n"
   ]
  },
  {
   "cell_type": "code",
   "execution_count": 3,
   "metadata": {},
   "outputs": [
    {
     "data": {
      "application/json": "[\"testBattleShipOracle\"]",
      "text/html": [
       "<ul><li>testBattleShipOracle</li></ul>"
      ],
      "text/plain": [
       "testBattleShipOracle"
      ]
     },
     "execution_count": 3,
     "metadata": {},
     "output_type": "execute_result"
    }
   ],
   "source": [
    "operation testBattleShipOracle (inputNum : Int) : Unit {\n",
    "    // current test case: 18 <=> (0, 1), ([0, 0], [1, 0])\n",
    "    let inputBits = IntAsBoolArray(inputNum, 6);\n",
    "    use inputRegister = Qubit[6];\n",
    "    for i in 0..5 {\n",
    "        Message($\"inputBits[{i}]:\\t{inputBits[i]}\");\n",
    "        if inputBits[i] {\n",
    "            X(inputRegister[i]);\n",
    "        }\n",
    "    }\n",
    "    use target = Qubit();\n",
    "    ValidBattleshipMarkingOracle(inputRegister, target);\n",
    "    DumpRegister((), [target]);\n",
    "    ResetAll(inputRegister);\n",
    "    Reset(target);\n",
    "}"
   ]
  },
  {
   "cell_type": "code",
   "execution_count": 4,
   "metadata": {
    "scrolled": true
   },
   "outputs": [
    {
     "name": "stdout",
     "output_type": "stream",
     "text": [
      "inputBits[0]:\tFalse\n",
      "inputBits[1]:\tTrue\n",
      "inputBits[2]:\tFalse\n",
      "inputBits[3]:\tFalse\n",
      "inputBits[4]:\tTrue\n",
      "inputBits[5]:\tFalse\n"
     ]
    },
    {
     "data": {
      "application/json": "{\"div_id\":\"dump-machine-div-745d1102-7751-41d5-90b0-cb1d1bdfdb93\",\"qubit_ids\":[6],\"n_qubits\":1,\"amplitudes\":[{\"Real\":0.0,\"Imaginary\":0.0,\"Magnitude\":0.0,\"Phase\":0.0},{\"Real\":1.0,\"Imaginary\":0.0,\"Magnitude\":1.0,\"Phase\":0.0}]}",
      "text/html": [
       "\r\n",
       "                    <table style=\"table-layout: fixed; width: 100%\">\r\n",
       "                        <thead>\r\n",
       "                            \r\n",
       "                        <tr>\r\n",
       "                            <th>Qubit IDs</th>\r\n",
       "                            <td span=\"3\">6</td>\r\n",
       "                        </tr>\r\n",
       "                    \r\n",
       "                            <tr>\r\n",
       "                                <th style=\"width: 20ch)\">Basis state (little endian)</th>\r\n",
       "                                <th style=\"width: 20ch\">Amplitude</th><th style=\"width: calc(100% - 26ch - 20ch)\">Meas. Pr.</th><th style=\"width: 6ch\">Phase</th>\r\n",
       "                            </tr>\r\n",
       "                        </thead>\r\n",
       "                        <tbody>\r\n",
       "                        \r\n",
       "                            <tr>\r\n",
       "                                <td>$\\left|0\\right\\rangle$</td>\r\n",
       "                                <td>$0.0000 + 0.0000 i$</td>\r\n",
       "                                \r\n",
       "                                <td>\r\n",
       "                                    <progress\r\n",
       "                                        max=\"100\"\r\n",
       "                                        value=\"0\"\r\n",
       "                                        style=\"width: 100%;\"\r\n",
       "                                    > \r\n",
       "                                    <td>\r\n",
       "                                    <p id=\"round-df0d31cb-a165-43e8-b343-713b3b534ede\"> \r\n",
       "                                    <script>\r\n",
       "                                    var num = 0;\r\n",
       "                                    num = num.toFixed(4);\r\n",
       "                                    var num_string = num + \"%\";\r\n",
       "                                     document.getElementById(\"round-df0d31cb-a165-43e8-b343-713b3b534ede\").innerHTML = num_string;\r\n",
       "                                    </script> </p>\r\n",
       "                                    </td>\r\n",
       "                                </td>\r\n",
       "                            \r\n",
       "                                \r\n",
       "                                <td style=\"transform: rotate(0deg);\r\n",
       "                   text-align: center;\">\r\n",
       "                                 ↑\r\n",
       "                                </td>\r\n",
       "                            \r\n",
       "                            </tr>\r\n",
       "                        \n",
       "\r\n",
       "                            <tr>\r\n",
       "                                <td>$\\left|1\\right\\rangle$</td>\r\n",
       "                                <td>$1.0000 + 0.0000 i$</td>\r\n",
       "                                \r\n",
       "                                <td>\r\n",
       "                                    <progress\r\n",
       "                                        max=\"100\"\r\n",
       "                                        value=\"100\"\r\n",
       "                                        style=\"width: 100%;\"\r\n",
       "                                    > \r\n",
       "                                    <td>\r\n",
       "                                    <p id=\"round-c964e646-b206-479b-8df6-2c75bc202c7c\"> \r\n",
       "                                    <script>\r\n",
       "                                    var num = 100;\r\n",
       "                                    num = num.toFixed(4);\r\n",
       "                                    var num_string = num + \"%\";\r\n",
       "                                     document.getElementById(\"round-c964e646-b206-479b-8df6-2c75bc202c7c\").innerHTML = num_string;\r\n",
       "                                    </script> </p>\r\n",
       "                                    </td>\r\n",
       "                                </td>\r\n",
       "                            \r\n",
       "                                \r\n",
       "                                <td style=\"transform: rotate(0deg);\r\n",
       "                   text-align: center;\">\r\n",
       "                                 ↑\r\n",
       "                                </td>\r\n",
       "                            \r\n",
       "                            </tr>\r\n",
       "                        \r\n",
       "                        </tbody>\r\n",
       "                    </table>"
      ],
      "text/plain": [
       "|0⟩\t0 + 0𝑖\n",
       "|1⟩\t1 + 0𝑖"
      ]
     },
     "metadata": {},
     "output_type": "display_data"
    },
    {
     "data": {
      "application/json": "{\"@type\":\"tuple\"}",
      "text/plain": [
       "()"
      ]
     },
     "execution_count": 4,
     "metadata": {},
     "output_type": "execute_result"
    }
   ],
   "source": [
    "%simulate testBattleShipOracle inputNum=18"
   ]
  },
  {
   "cell_type": "markdown",
   "metadata": {},
   "source": [
    "`target` being in the $|1\\rangle$ state is consistent with this configuration of ships being valid."
   ]
  },
  {
   "cell_type": "markdown",
   "metadata": {},
   "source": [
    "### Part 3. Using Grover's Algorithm\n",
    "\n",
    "Now, we use the oracle implemented in the previous part as part of a Grover search. The end result should yield high amplitudes for basis states representing a valid Battleship configuration, and near-zero amplitudes otherwise. Therefore, when we perform a measurement in the computational basis, we should expect to obtain one of the states that represents a valid configuration of ships."
   ]
  },
  {
   "cell_type": "markdown",
   "metadata": {},
   "source": [
    "In the `OracleConverter` operation below, we convert the previously implemented marking oracle into a phase oracle. This allows us to flip the phases of the marked states so that `GroverAlgorithmLoop` afterwards can repeatedly perform mean inversion to amplify their probability amplitudes."
   ]
  },
  {
   "cell_type": "code",
   "execution_count": 5,
   "metadata": {},
   "outputs": [
    {
     "data": {
      "application/json": "[\"OracleConverter\",\"GroverAlgorithmLoop\"]",
      "text/html": [
       "<ul><li>OracleConverter</li><li>GroverAlgorithmLoop</li></ul>"
      ],
      "text/plain": [
       "OracleConverter, GroverAlgorithmLoop"
      ]
     },
     "execution_count": 5,
     "metadata": {},
     "output_type": "execute_result"
    }
   ],
   "source": [
    "// Oracle Converter, GroverAlgorithmLoop, and GroversAlgorithm implemented in Graph Coloring Katas.\n",
    "\n",
    "// Convert above marking oracle to a phase oracle, using phase-kickback\n",
    "\n",
    "operation OracleConverter (markingOracle : ((Qubit[], Qubit) => Unit is Adj), register : Qubit[]) : Unit is Adj {\n",
    "    use target = Qubit();\n",
    "    within {\n",
    "        // Put the target qubit in the |-⟩ state\n",
    "        X(target);\n",
    "        H(target);\n",
    "    } apply {\n",
    "        // Apply the marking oracle\n",
    "        markingOracle(register, target);\n",
    "    }\n",
    "}\n",
    "\n",
    "operation GroverAlgorithmLoop (markingOracle : ((Qubit[], Qubit) => Unit is Adj), register : Qubit[], iterations : Int) : Unit is Adj {\n",
    "    // Convert the marking oracle in a phase oracle\n",
    "    let phaseOracle = OracleConverter(markingOracle, _);\n",
    "    // Prepare an equal superposition of all basis states\n",
    "    ApplyToEachA(H, register);\n",
    "    // Apply Grover iterations\n",
    "    for _ in 1..iterations {\n",
    "        // Apply phase oracle\n",
    "        phaseOracle(register);\n",
    "        // Apply \"reflection about the mean\"\n",
    "        within {\n",
    "            ApplyToEachA(H, register);\n",
    "            ApplyToEachA(X, register);\n",
    "        } apply {\n",
    "            (Controlled Z)(Most(register), Tail(register));\n",
    "        }\n",
    "    }\n",
    "}"
   ]
  },
  {
   "cell_type": "markdown",
   "metadata": {},
   "source": [
    "In `GroversAlgorithm`, we run `GroverAlgorithmLoop` for a certain number of iterations so that the measurement of a  marked output state returns `One`, in which case we have found our valid ship configuration. Then, `MeasureConfig` measures the configuration to extract the Boolean array of ship coordinates."
   ]
  },
  {
   "cell_type": "code",
   "execution_count": 6,
   "metadata": {},
   "outputs": [
    {
     "data": {
      "application/json": "[\"GroversAlgorithm\",\"MeasureConfig\"]",
      "text/html": [
       "<ul><li>GroversAlgorithm</li><li>MeasureConfig</li></ul>"
      ],
      "text/plain": [
       "GroversAlgorithm, MeasureConfig"
      ]
     },
     "execution_count": 6,
     "metadata": {},
     "output_type": "execute_result"
    }
   ],
   "source": [
    "operation GroversAlgorithm (oracle : ((Qubit[], Qubit) => Unit is Adj)) : Bool[] {\n",
    "    mutable config = new Bool[6];\n",
    "    use (register, output) = (Qubit[6], Qubit());\n",
    "    mutable correct = false;\n",
    "    mutable iterations = 1;\n",
    "    repeat {\n",
    "        //Message($\"Trying iteration {iterations}\");\n",
    "        GroverAlgorithmLoop(oracle, register, iterations);\n",
    "        let temp = MultiM(register);\n",
    "        oracle(register, output);\n",
    "        if (MResetZ(output) == One) {\n",
    "            set correct = true;\n",
    "            set config = MeasureConfig(register);\n",
    "        }\n",
    "        ResetAll(register);\n",
    "    }\n",
    "    until (correct or iterations > 10)\n",
    "    fixup {\n",
    "        set iterations += 1;\n",
    "    }\n",
    "    if (not correct) {\n",
    "        fail \"Not a valid battleship configuration.\";\n",
    "    }\n",
    "    return config;\n",
    "}\n",
    "\n",
    "operation MeasureConfig (register : Qubit[]) : Bool[] {\n",
    "    let measurements = MultiM(register);\n",
    "    return ResultArrayAsBoolArray(measurements);\n",
    "}"
   ]
  },
  {
   "cell_type": "markdown",
   "metadata": {},
   "source": [
    "The above algorithm will only return 1 valid ship configuration, so we create an operation to run the algorithm multiple times to generate more valid ship configurations:"
   ]
  },
  {
   "cell_type": "code",
   "execution_count": 7,
   "metadata": {},
   "outputs": [
    {
     "data": {
      "application/json": "[\"runGroverBattleship\"]",
      "text/html": [
       "<ul><li>runGroverBattleship</li></ul>"
      ],
      "text/plain": [
       "runGroverBattleship"
      ]
     },
     "execution_count": 7,
     "metadata": {},
     "output_type": "execute_result"
    }
   ],
   "source": [
    "operation runGroverBattleship(num_iters : Int) : (Bool, Bool, Bool, Bool, Bool, Bool)[] {\n",
    "    mutable runs = new (Bool, Bool, Bool, Bool, Bool, Bool)[num_iters];\n",
    "    for n in 0..(num_iters - 1) {\n",
    "        let validConfig = GroversAlgorithm(ValidBattleshipMarkingOracle);        \n",
    "        set runs w/= n <- (validConfig[0], validConfig[1], validConfig[2], validConfig[3], validConfig[4], validConfig[5]);\n",
    "    }\n",
    "    return runs;\n",
    "}"
   ]
  },
  {
   "cell_type": "code",
   "execution_count": 8,
   "metadata": {},
   "outputs": [
    {
     "data": {
      "application/json": "[{\"@type\":\"@tuple\",\"Item1\":true,\"Item2\":true,\"Item3\":false,\"Item4\":true,\"Item5\":false,\"Item6\":false},{\"@type\":\"@tuple\",\"Item1\":false,\"Item2\":true,\"Item3\":true,\"Item4\":false,\"Item5\":true,\"Item6\":true},{\"@type\":\"@tuple\",\"Item1\":false,\"Item2\":false,\"Item3\":true,\"Item4\":true,\"Item5\":true,\"Item6\":false},{\"@type\":\"@tuple\",\"Item1\":false,\"Item2\":true,\"Item3\":false,\"Item4\":false,\"Item5\":true,\"Item6\":false},{\"@type\":\"@tuple\",\"Item1\":true,\"Item2\":true,\"Item3\":false,\"Item4\":false,\"Item5\":true,\"Item6\":false},{\"@type\":\"@tuple\",\"Item1\":false,\"Item2\":false,\"Item3\":false,\"Item4\":true,\"Item5\":true,\"Item6\":true},{\"@type\":\"@tuple\",\"Item1\":true,\"Item2\":false,\"Item3\":false,\"Item4\":false,\"Item5\":false,\"Item6\":true},{\"@type\":\"@tuple\",\"Item1\":true,\"Item2\":false,\"Item3\":false,\"Item4\":true,\"Item5\":false,\"Item6\":false},{\"@type\":\"@tuple\",\"Item1\":false,\"Item2\":false,\"Item3\":true,\"Item4\":true,\"Item5\":true,\"Item6\":false},{\"@type\":\"@tuple\",\"Item1\":true,\"Item2\":true,\"Item3\":false,\"Item4\":false,\"Item5\":true,\"Item6\":false}]",
      "text/html": [
       "<ul><li>(True, True, False, True, False, False)</li><li>(False, True, True, False, True, True)</li><li>(False, False, True, True, True, False)</li><li>(False, True, False, False, True, False)</li><li>(True, True, False, False, True, False)</li><li>(False, False, False, True, True, True)</li><li>(True, False, False, False, False, True)</li><li>(True, False, False, True, False, False)</li><li>(False, False, True, True, True, False)</li><li>(True, True, False, False, True, False)</li></ul>"
      ],
      "text/plain": [
       "(True, True, False, True, False, False), (False, True, True, False, True, True), (False, False, True, True, True, False), (False, True, False, False, True, False), (True, True, False, False, True, False), (False, False, False, True, True, True), (True, False, False, False, False, True), (True, False, False, True, False, False), (False, False, True, True, True, False), (True, True, False, False, True, False)"
      ]
     },
     "execution_count": 8,
     "metadata": {},
     "output_type": "execute_result"
    }
   ],
   "source": [
    "%simulate runGroverBattleship num_iters=10"
   ]
  },
  {
   "cell_type": "markdown",
   "metadata": {},
   "source": [
    "These are all valid ship configurations - for example, $(\\text{False}, \\text{True}, \\text{True}, \\text{False}, \\text{True}, \\text{True})$ corresponds to ship coordinates of $(1, 1), ([0, 0], [1, 0])$, as visualized below: "
   ]
  },
  {
   "cell_type": "markdown",
   "metadata": {},
   "source": [
    "<img src=\"https://user-images.githubusercontent.com/42923017/114302423-f3bdb480-9a96-11eb-8dab-07be87d86a7f.png\" alt=\"Richard's Battleship\" width=\"300\" caption=\"Valid Battleship\"/>"
   ]
  },
  {
   "cell_type": "markdown",
   "metadata": {},
   "source": [
    "This project was a great experience in implementing yet another exciting quantum oracle and seeing first-hand how Grover's Algorithm can be utilized to find valid $2\\times 2$ battleship grids. The same overlap-checking approach in our quantum oracle can be leveraged to validate higher-dimensional battleship grids with more ships. While this problem was not high-dimensional, it serves as a proof-of-concept of the power of Grover to validate Battleship configurations and eventually begin to guess them."
   ]
  }
 ],
 "metadata": {
  "kernelspec": {
   "display_name": "Q#",
   "language": "qsharp",
   "name": "iqsharp"
  },
  "language_info": {
   "file_extension": ".qs",
   "mimetype": "text/x-qsharp",
   "name": "qsharp",
   "version": "0.14"
  }
 },
 "nbformat": 4,
 "nbformat_minor": 2
}
